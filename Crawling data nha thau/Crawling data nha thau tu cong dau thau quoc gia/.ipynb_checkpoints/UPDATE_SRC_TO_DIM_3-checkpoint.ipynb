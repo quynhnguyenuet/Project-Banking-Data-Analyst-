{
 "cells": [
  {
   "cell_type": "code",
   "execution_count": 1,
   "id": "41932fb3",
   "metadata": {},
   "outputs": [],
   "source": [
    "import pandas as pd\n",
    "import numpy as np\n",
    "from selenium import webdriver\n",
    "from time import sleep\n",
    "from selenium.webdriver.common.keys import Keys\n",
    "from selenium.webdriver.common.by import By\n",
    "from bs4 import BeautifulSoup\n",
    "import pyodbc as pyo\n",
    "import time\n",
    "from selenium.webdriver.support.ui import WebDriverWait\n",
    "from selenium.webdriver.support import expected_conditions as EC\n",
    "from datetime import datetime\n",
    "from selenium.webdriver.chrome.options import Options"
   ]
  },
  {
   "cell_type": "code",
   "execution_count": null,
   "id": "85bc1f23",
   "metadata": {},
   "outputs": [],
   "source": [
    "print('You are trying to insert data to database SME, please make sure you internet connection is LAN')\n",
    "host_name = input(str('Please input your local host name in SQL: '))\n",
    "host_name = host_name.strip()\n",
    "print('   ------------------------------------------------->     YOUR LOCAL HOST NAME IS: ',host_name)\n",
    "print('   ')\n",
    "connection_4 = pyo.connect(driver='{ODBC Driver 17 for SQL Server}'\n",
    "                             ,host= host_name\n",
    "                             ,database='SME'\n",
    "                             ,trusted_connection='yes')\n",
    "cursor_4 = connection_4.cursor()\n",
    "query_4 = \"Select * from SME..TAIMX_SRC_Du_LIEU_GOI_THAU_DETAIL\"\n",
    "df_4 = pd.read_sql(sql=query_4,con=connection_4)\n",
    "connection_5 = pyo.connect(driver='{ODBC Driver 17 for SQL Server}'\n",
    "                        ,host= 'DETL-DB-VM-P1\\POWERPIVOT'\n",
    "                        ,database='SME'\n",
    "                        ,trusted_connection='yes')\n",
    "cursor_5 = connection_5.cursor()\n",
    "Drop_query = \"Drop table if exists SME..TAIMX_SRC_Du_LIEU_GOI_THAU_DETAIL_BACKUP Select * into SME..TAIMX_SRC_Du_LIEU_GOI_THAU_DETAIL_BACKUP from SME..TAIMX_SRC_Du_LIEU_GOI_THAU_DETAIL\"\n",
    "cursor_5.execute(Drop_query)\n",
    "connection_5.commit()\n",
    "for index, row in df_4.iterrows():\n",
    "    Sql_2 = \"Insert into SME..TAIMX_SRC_Du_LIEU_GOI_THAU_DETAIL (Ma_TBMT,Ten_goi_thau,Ben_moi_thau,Nguon_ngan_sach,Linh_vuc,Hinh_thuc_chon_thau,Loai_hop_dong,Trongnuoc_quocte,Phuong_thuc_chon_thau,Thoi_gian_THHD,So_tien_dam_bao_du_thau,Hinh_thuc_dam_bao_du_thau,Loai_cong_trinh,So_QĐPD,Ngay_ky_QĐPD,Co_quan_ban_hanh,Gia_goi_thau,So_DN_du_thau,DN_du_thau_01,DN_du_thau_02,DN_du_thau_03,DN_du_thau_04,DN_du_thau_05,DN_du_thau_06,DN_du_thau_07,DN_du_thau_08,DN_du_thau_09,DN_du_thau_10,DN_du_thau_11,DN_du_thau_12,DN_du_thau_13,DN_du_thau_14,DN_du_thau_15,DN_du_thau_16,DN_du_thau_17,DN_du_thau_18,DN_du_thau_19,DN_du_thau_20,DN_trung_thau_01,DN_trung_thau_02,DN_trung_thau_03,DN_trung_thau_04,DN_trung_thau_05,DN_trung_thau_06,DN_trung_thau_07,DN_trung_thau_08,DN_trung_thau_09,DN_trung_thau_10,DN_trung_thau_11,DN_trung_thau_12,DN_trung_thau_13,DN_trung_thau_14,DN_trung_thau_15,DN_trung_thau_16,DN_trung_thau_17,DN_trung_thau_18,DN_trung_thau_19,DN_trung_thau_20,Ngay_ky_HD,Trang_thai_goi_thau,Ngay_keo_du_lieu) values(?,?,?,?,?,?,?,?,?,?,?,?,?,?,?,?,?,?,?,?,?,?,?,?,?,?,?,?,?,?,?,?,?,?,?,?,?,?,?,?,?,?,?,?,?,?,?,?,?,?,?,?,?,?,?,?,?,?,?,?,?)\"\n",
    "    cursor_5.execute(Sql_2,(row.Ma_TBMT, row.Ten_goi_thau, row.Ben_moi_thau, row.Nguon_ngan_sach, row.Linh_vuc, row.Hinh_thuc_chon_thau, row.Loai_hop_dong, row.Trongnuoc_quocte, row.Phuong_thuc_chon_thau, row.Thoi_gian_THHD, row.So_tien_dam_bao_du_thau, row.Hinh_thuc_dam_bao_du_thau, row.Loai_cong_trinh, row.So_QĐPD, row.Ngay_ky_QĐPD, row.Co_quan_ban_hanh, row.Gia_goi_thau, row.So_DN_du_thau, row.DN_du_thau_01, row.DN_du_thau_02, row.DN_du_thau_03, row.DN_du_thau_04, row.DN_du_thau_05, row.DN_du_thau_06, row.DN_du_thau_07, row.DN_du_thau_08, row.DN_du_thau_09, row.DN_du_thau_10, row.DN_du_thau_11, row.DN_du_thau_12, row.DN_du_thau_13, row.DN_du_thau_14, row.DN_du_thau_15, row.DN_du_thau_16, row.DN_du_thau_17, row.DN_du_thau_18, row.DN_du_thau_19, row.DN_du_thau_20, row.DN_trung_thau_01, row.DN_trung_thau_02, row.DN_trung_thau_03, row.DN_trung_thau_04, row.DN_trung_thau_05, row.DN_trung_thau_06, row.DN_trung_thau_07, row.DN_trung_thau_08, row.DN_trung_thau_09, row.DN_trung_thau_10, row.DN_trung_thau_11, row.DN_trung_thau_12, row.DN_trung_thau_13, row.DN_trung_thau_14, row.DN_trung_thau_15, row.DN_trung_thau_16, row.DN_trung_thau_17, row.DN_trung_thau_18, row.DN_trung_thau_19, row.DN_trung_thau_20, row.Ngay_ky_HD, row.Trang_thai_goi_thau, row.Ngay_keo_du_lieu))\n",
    "    connection_5.commit()\n",
    "print('Inserted all the new data!!!')\n",
    "del_SQL= \" DELETE T FROM ( SELECT *, DupRank = ROW_NUMBER() OVER (PARTITION BY Ma_TBMT, Trang_thai_goi_thau ORDER BY Ngay_keo_du_lieu desc) FROM SME..TAIMX_SRC_Du_LIEU_GOI_THAU_DETAIL) AS T WHERE DupRank > 1\"\n",
    "cursor_5.execute(del_SQL)\n",
    "connection_5.commit()\n",
    "update_sql_0 = \"UPDATE SME..TAIMX_DIM_DU_LIEU_GOI_THAU_OVERVIEW Set Remark = 0\"\n",
    "cursor_5.execute(update_sql_0)\n",
    "connection_5.commit()\n",
    "update_sql_1 = \"UPDATE A Set A.Remark = B.Remark From SME..TAIMX_DIM_DU_LIEU_GOI_THAU_OVERVIEW A ,(Select *, '1' as Remark from SME..TAIMX_SRC_Du_LIEU_GOI_THAU_DETAIL) B where A.Ma_TBMT = B.Ma_TBMT and A.Trang_thai_goi_thau = B.Trang_thai_goi_thau\"\n",
    "cursor_5.execute(update_sql_1)\n",
    "connection_5.commit()\n",
    "print('PROCESSED DONE!!!!')"
   ]
  }
 ],
 "metadata": {
  "kernelspec": {
   "display_name": "Python 3 (ipykernel)",
   "language": "python",
   "name": "python3"
  },
  "language_info": {
   "codemirror_mode": {
    "name": "ipython",
    "version": 3
   },
   "file_extension": ".py",
   "mimetype": "text/x-python",
   "name": "python",
   "nbconvert_exporter": "python",
   "pygments_lexer": "ipython3",
   "version": "3.10.9"
  }
 },
 "nbformat": 4,
 "nbformat_minor": 5
}
