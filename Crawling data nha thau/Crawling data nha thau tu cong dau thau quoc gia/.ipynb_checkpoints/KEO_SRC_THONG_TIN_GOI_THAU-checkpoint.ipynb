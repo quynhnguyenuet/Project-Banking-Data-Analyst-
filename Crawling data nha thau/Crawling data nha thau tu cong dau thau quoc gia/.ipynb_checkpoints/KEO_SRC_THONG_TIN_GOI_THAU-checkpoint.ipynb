{
 "cells": [
  {
   "cell_type": "code",
   "execution_count": null,
   "id": "643c05bf",
   "metadata": {},
   "outputs": [],
   "source": [
    "import pyodbc as pyo\n",
    "import time"
   ]
  },
  {
   "cell_type": "code",
   "execution_count": 2,
   "id": "a6369b3b",
   "metadata": {},
   "outputs": [
    {
     "name": "stdout",
     "output_type": "stream",
     "text": [
      "Please make sure to use LAN connection to do this job\n",
      "-----------------------------------------------------------------\n",
      "\n",
      "Do you want to delete table TAIMX_SRC_DU_LIEU_GOI_THAU_OVERVIEW before crawling new data(Yes/No): No\n",
      "What do you want to crawl?? \n",
      " 1.--->   Đang mở thầu \n",
      " 2.--->   Đang xét thầu \n",
      " 3.--->   Đã trúng thầu \n",
      " 4.--->   All \n",
      " 5.--->   Skip this step\n",
      "INCORRECT!!!!, Your choice is invalid, please make it again!!\n",
      "Please Enter Your Choice: Skip this step\n",
      "CORRECT!!!!, YOUR CHOICE IS Skip this step\n",
      "Do you want to insert data to table SME..TAIMX_SRC_DU_LIEU_GOI_THAU_OVERVIEW (Yes/No): No\n"
     ]
    }
   ],
   "source": [
    "import ipynb\n",
    "print('Please make sure to use LAN connection to do this job')\n",
    "print('-----------------------------------------------------------------')\n",
    "print('')\n",
    "Del_table = input(str('Do you want to delete table TAIMX_SRC_DU_LIEU_GOI_THAU_OVERVIEW before crawling new data(Yes/No): '))\n",
    "if Del_table == 'Yes':\n",
    "    connection = pyo.connect(driver='{ODBC Driver 17 for SQL Server}'\n",
    "                        ,host= 'DETL-DB-VM-P1\\POWERPIVOT'\n",
    "                        ,database='SME'\n",
    "                        ,trusted_connection='yes')\n",
    "    cursor = connection.cursor()\n",
    "    delete_sql = \"Delete from SME..TAIMX_SRC_DU_LIEU_GOI_THAU_OVERVIEW\"\n",
    "    cursor.execute(delete_sql)\n",
    "    connection.commit()\n",
    "    print(\"Deleted all the data successfully!!!!\")\n",
    "    print('')   \n",
    "List_choices = ['Đang mở thầu','Đang xét thầu','Đã trúng thầu','All','Skip this step']\n",
    "print('What do you want to crawl?? \\n 1.--->   Đang mở thầu \\n 2.--->   Đang xét thầu \\n 3.--->   Đã trúng thầu \\n 4.--->   All \\n 5.--->   Skip this step')\n",
    "crawl_type = 'Waiting'\n",
    "while crawl_type not in List_choices:\n",
    "    print('INCORRECT!!!!, Your choice is invalid, please make it again!!')\n",
    "    crawl_type = input(str('Please Enter Your Choice: '))\n",
    "    crawl_type = crawl_type.strip().lower().capitalize()\n",
    "print('CORRECT!!!!, YOUR CHOICE IS',crawl_type)\n",
    "if crawl_type == 'Đã trúng thầu':\n",
    "    %run KEO_SRC_GOI_THAU_TRUNG_THAU.ipynb\n",
    "if crawl_type == 'Đang xét thầu':\n",
    "    %run KEO_SRC_GOI_THAU_XET_THAU.ipynb\n",
    "if crawl_type == 'Đang mở thầu':\n",
    "    %run KEO_SRC_GOI_THAU_MO_THAU.ipynb\n",
    "if crawl_type == 'All':\n",
    "    %run KEO_SRC_GOI_THAU_TRUNG_THAU.ipynb \n",
    "    %run KEO_SRC_GOI_THAU_XET_THAU.ipynb \n",
    "    %run KEO_SRC_GOI_THAU_MO_THAU.ipynb\n",
    "if crawl_type == 'Skip this step':   \n",
    "    SRC_to_DIM = input(str('Do you want to insert data to table SME..TAIMX_DIM_DU_LIEU_GOI_THAU_OVERVIEW (Yes/No): '))\n",
    "    if SRC_to_DIM == 'Yes':\n",
    "        connection = pyo.connect(driver='{ODBC Driver 17 for SQL Server}'\n",
    "                            ,host= 'DETL-DB-VM-P1\\POWERPIVOT'\n",
    "                            ,database='SME'\n",
    "                            ,trusted_connection='yes')\n",
    "        cursor = connection.cursor()\n",
    "        Drop_query = \"Drop table if exists SME..TAIMX_DIM_DU_LIEU_GOI_THAU_OVERVIEW_BACKUP Select * into SME..TAIMX_DIM_DU_LIEU_GOI_THAU_OVERVIEW_BACKUP from SME..TAIMX_DIM_DU_LIEU_GOI_THAU_OVERVIEW  \"\n",
    "        cursor.execute(Drop_query)\n",
    "        connection.commit()\n",
    "        insert_query = \"Insert into SME..TAIMX_DIM_DU_LIEU_GOI_THAU_OVERVIEW Select Case when Len(Ma_TBMT) <= 15 then Left(Ma_TBMT,12) Else Substring(Ma_TBMT,31,12) End as Ma_TBMT,Ten_goi_thau,Ben_moi_thau,CAST(Ngay_thong_bao as date) as Ngay_TBMT,Linh_vuc,Dia_diem_thau,Ngay_dong_thau,Hinh_thuc_du_thau,DN_trung_thau,Cast(replace(Gia_trung_thau,',','') as float) as Gia_trung_thau,Ngay_phe_duyet as Ngay_duyet_KQDT,Link_chi_tiet,Trang_thai_goi_thau,Ngay_keo_du_lieu,'0' as Remark From (Select *,ROW_NUMBER() Over(Partition by Case when Len(Ma_TBMT) <= 15 then Left(Ma_TBMT,12) Else Substring(Ma_TBMT,31,12) End order by Ngay_keo_du_lieu desc) as RK From SME..TAIMX_SRC_DU_LIEU_GOI_THAU_OVERVIEW) T Where T.RK = 1      \"\n",
    "        cursor.execute(insert_query)\n",
    "        connection.commit()\n",
    "        default_value = \"Update A Set A.Remark = B.Remark From SME..TAIMX_DIM_DU_LIEU_GOI_THAU_OVERVIEW A,(Select * from SME..TAIMX_DIM_DU_LIEU_GOI_THAU_OVERVIEW where Remark = '1') B Where A.Ma_TBMT = B.Ma_TBMT and A.Trang_thai_goi_thau = B.Trang_thai_goi_thau \"\n",
    "        cursor.execute(default_value)\n",
    "        connection.commit()\n",
    "        duplicated_value = \"DELETE T FROM (SELECT *,DupRank = ROW_NUMBER() OVER (PARTITION BY Ma_TBMT ORDER BY Ngay_keo_du_lieu desc) FROM SME..TAIMX_DIM_DU_LIEU_GOI_THAU_OVERVIEW ) AS T WHERE DupRank > 1\"\n",
    "        cursor.execute(duplicated_value)\n",
    "        connection.commit()"
   ]
  },
  {
   "cell_type": "code",
   "execution_count": null,
   "id": "c1f321fc",
   "metadata": {},
   "outputs": [],
   "source": []
  }
 ],
 "metadata": {
  "kernelspec": {
   "display_name": "Python 3 (ipykernel)",
   "language": "python",
   "name": "python3"
  },
  "language_info": {
   "codemirror_mode": {
    "name": "ipython",
    "version": 3
   },
   "file_extension": ".py",
   "mimetype": "text/x-python",
   "name": "python",
   "nbconvert_exporter": "python",
   "pygments_lexer": "ipython3",
   "version": "3.10.9"
  }
 },
 "nbformat": 4,
 "nbformat_minor": 5
}
