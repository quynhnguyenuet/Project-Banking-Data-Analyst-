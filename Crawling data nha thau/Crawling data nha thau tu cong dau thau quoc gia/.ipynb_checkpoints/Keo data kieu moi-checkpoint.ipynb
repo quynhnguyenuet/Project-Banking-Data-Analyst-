{
 "cells": [
  {
   "cell_type": "code",
   "execution_count": 1,
   "id": "b2f8cd31",
   "metadata": {},
   "outputs": [],
   "source": [
    "from bs4 import BeautifulSoup\n",
    "import requests\n",
    "import random"
   ]
  },
  {
   "cell_type": "code",
   "execution_count": 2,
   "id": "54f80509",
   "metadata": {},
   "outputs": [],
   "source": [
    "user_agents_list = [\n",
    "    'Mozilla/5.0 (iPad; CPU OS 12_2 like Mac OS X) AppleWebKit/605.1.15 (KHTML, like Gecko) Mobile/15E148',\n",
    "    'Mozilla/5.0 (Macintosh; Intel Mac OS X 10_15_7) AppleWebKit/537.36 (KHTML, like Gecko) Chrome/99.0.4844.83 Safari/537.36',\n",
    "    'Mozilla/5.0 (Windows NT 10.0; Win64; x64) AppleWebKit/537.36 (KHTML, like Gecko) Chrome/99.0.4844.51 Safari/537.36'\n",
    "]"
   ]
  },
  {
   "cell_type": "code",
   "execution_count": null,
   "id": "e106f745",
   "metadata": {},
   "outputs": [],
   "source": []
  },
  {
   "cell_type": "code",
   "execution_count": null,
   "id": "bed0f7a7",
   "metadata": {},
   "outputs": [],
   "source": [
    "from selenium import webdriver\n",
    "from selenium.webdriver.support.ui import WebDriverWait\n",
    "from selenium.webdriver.common.by import By\n",
    "from selenium.webdriver.support import expected_conditions as EC\n",
    "from selenium.common.exceptions import TimeoutException\n",
    "\n",
    "options = webdriver.ChromeOptions()\n",
    "options.add_argument(\"start-maximized\")\n",
    "options.add_experimental_option(\"excludeSwitches\", [\"enable-automation\"])\n",
    "options.add_experimental_option('useAutomationExtension', False)\n",
    "driver = webdriver.Chrome(chrome_options=options, executable_path=r'C:\\WebDrivers\\chromedriver.exe')\n",
    "driver.get(\"https://sslproxies.org/\")\n",
    "driver.execute_script(\"return arguments[0].scrollIntoView(true);\", WebDriverWait(driver, 20).until(EC.visibility_of_element_located((By.XPATH, \"//table[@class='table table-striped table-bordered dataTable']//th[contains(., 'IP Address')]\"))))\n",
    "ips = [my_elem.get_attribute(\"innerHTML\") for my_elem in WebDriverWait(driver, 5).until(EC.visibility_of_all_elements_located((By.XPATH, \"//table[@class='table table-striped table-bordered dataTable']//tbody//tr[@role='row']/td[position() = 1]\")))]\n",
    "ports = [my_elem.get_attribute(\"innerHTML\") for my_elem in WebDriverWait(driver, 5).until(EC.visibility_of_all_elements_located((By.XPATH, \"//table[@class='table table-striped table-bordered dataTable']//tbody//tr[@role='row']/td[position() = 2]\")))]\n",
    "driver.quit()\n",
    "proxies = []\n",
    "for i in range(0, len(ips)):\n",
    "    proxies.append(ips[i]+':'+ports[i])\n",
    "print(proxies)\n",
    "for i in range(0, len(proxies)):\n",
    "    try:\n",
    "        print(\"Proxy selected: {}\".format(proxies[i]))\n",
    "        options = webdriver.ChromeOptions()\n",
    "        options.add_argument('--proxy-server={}'.format(proxies[i]))\n",
    "        driver = webdriver.Chrome(options=options, executable_path=r'C:\\WebDrivers\\chromedriver.exe')\n",
    "        driver.get(\"https://www.whatismyip.com/proxy-check/?iref=home\")\n",
    "        if \"Proxy Type\" in WebDriverWait(driver, 5).until(EC.visibility_of_element_located((By.CSS_SELECTOR, \"p.card-text\"))):\n",
    "            break\n",
    "    except Exception:\n",
    "        driver.quit()\n",
    "print(\"Proxy Invoked\")"
   ]
  },
  {
   "cell_type": "code",
   "execution_count": 5,
   "id": "d983de8e",
   "metadata": {},
   "outputs": [
    {
     "name": "stderr",
     "output_type": "stream",
     "text": [
      "C:\\Users\\taimx\\AppData\\Local\\Temp\\ipykernel_23396\\4204275318.py:13: DeprecationWarning: executable_path has been deprecated, please pass in a Service object\n",
      "  driver = webdriver.Chrome(\n"
     ]
    }
   ],
   "source": [
    "from selenium import webdriver\n",
    "from selenium.webdriver.chrome.service import Service as ChromeService\n",
    "from webdriver_manager.chrome import ChromeDriverManager\n",
    "from selenium.webdriver.chrome.options import Options\n",
    "\n",
    "# define custom options for the Selenium driver\n",
    "options = Options()\n",
    "# free proxy server URL\n",
    "proxy_server_url = \"157.245.97.60\"\n",
    "options.add_argument(f'--proxy-server={proxy_server_url}')\n",
    "\n",
    "# create the ChromeDriver instance with custom options\n",
    "driver = webdriver.Chrome(\n",
    "    #service=ChromeService(ChromeDriverManager().install()),\n",
    "    executable_path=\"./chromedriver.exe\",\n",
    "    options=options)\n",
    "driver.get('https://muasamcong.mpi.gov.vn/')"
   ]
  },
  {
   "cell_type": "code",
   "execution_count": null,
   "id": "cb191171",
   "metadata": {},
   "outputs": [],
   "source": []
  }
 ],
 "metadata": {
  "kernelspec": {
   "display_name": "Python 3 (ipykernel)",
   "language": "python",
   "name": "python3"
  },
  "language_info": {
   "codemirror_mode": {
    "name": "ipython",
    "version": 3
   },
   "file_extension": ".py",
   "mimetype": "text/x-python",
   "name": "python",
   "nbconvert_exporter": "python",
   "pygments_lexer": "ipython3",
   "version": "3.10.9"
  }
 },
 "nbformat": 4,
 "nbformat_minor": 5
}
