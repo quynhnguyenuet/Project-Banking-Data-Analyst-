{
 "cells": [
  {
   "cell_type": "code",
   "execution_count": null,
   "id": "f713a531",
   "metadata": {},
   "outputs": [],
   "source": [
    "import ipynb\n",
    "print('Hi you are working to update data from DIM_OVERVIEW to SRC_DETAIL')\n",
    "print('Please choose the step do you want to run:',\n",
    "      'Step 1. Exporting data from database SME to local',\n",
    "      'Step 2. Crawling data from website to insert to your local',\n",
    "      'Step 3. Exporting data from your local to database SME', sep='\\n')\n",
    "\n",
    "step_list = ['1', '2', '3', '1 2 3', '1 2', '2 3']\n",
    "step = '0'\n",
    "\n",
    "while step not in step_list:\n",
    "    step = input('Please input your step (1 / 2 / 3 / 1 2 3 / 1 2 / 2 3) ------->  ').strip()\n",
    "    if step not in step_list:\n",
    "        print('SORRY!!! Your step is wrong, please input again')\n",
    "print('You chose step:', step)   \n",
    "if step == '1':\n",
    "    %run UPDATE_SRC_TO_DIM_1.ipynb\n",
    "#     run_next = input('Do you want to run Step 2 as well? (Yes/No): ').strip().lower()\n",
    "#     if run_next == 'yes':\n",
    "#         %run UPDATE_SRC_TO_DIM_2.ipynb\n",
    "#     else:\n",
    "#         print(\"Step 1 completed successfully!\")\n",
    "\n",
    "elif step == '2':\n",
    "    # Chạy step 2\n",
    "    %run UPDATE_SRC_TO_DIM_2.ipynb\n",
    "#     run_next = input('Do you want to run Step 3 as well? (Yes/No): ').strip().lower()\n",
    "#     if run_next == 'yes':\n",
    "#         %run UPDATE_SRC_TO_DIM_3.ipynb\n",
    "#     else:\n",
    "#         print(\"Step 2 completed successfully!\")\n",
    "\n",
    "elif step == '3':\n",
    "    # Chạy step 3\n",
    "    %run UPDATE_SRC_TO_DIM_3.ipynb\n",
    "\n",
    "elif step == '1 2':\n",
    "    # Chạy step 1 và 2\n",
    "    %run UPDATE_SRC_TO_DIM_1.ipynb\n",
    "    %run UPDATE_SRC_TO_DIM_2.ipynb\n",
    "\n",
    "elif step == '2 3':\n",
    "    # Chạy step 2 và 3\n",
    "    %run UPDATE_SRC_TO_DIM_2.ipynb\n",
    "    %run UPDATE_SRC_TO_DIM_3.ipynb\n",
    "\n",
    "elif step == '1 2 3':\n",
    "    # Chạy step 1, 2 và 3\n",
    "    %run UPDATE_SRC_TO_DIM_1.ipynb\n",
    "    %run UPDATE_SRC_TO_DIM_2.ipynb\n",
    "    %run UPDATE_SRC_TO_DIM_3.ipynb\n"
   ]
  }
 ],
 "metadata": {
  "kernelspec": {
   "display_name": "Python 3 (ipykernel)",
   "language": "python",
   "name": "python3"
  },
  "language_info": {
   "codemirror_mode": {
    "name": "ipython",
    "version": 3
   },
   "file_extension": ".py",
   "mimetype": "text/x-python",
   "name": "python",
   "nbconvert_exporter": "python",
   "pygments_lexer": "ipython3",
   "version": "3.10.9"
  }
 },
 "nbformat": 4,
 "nbformat_minor": 5
}
