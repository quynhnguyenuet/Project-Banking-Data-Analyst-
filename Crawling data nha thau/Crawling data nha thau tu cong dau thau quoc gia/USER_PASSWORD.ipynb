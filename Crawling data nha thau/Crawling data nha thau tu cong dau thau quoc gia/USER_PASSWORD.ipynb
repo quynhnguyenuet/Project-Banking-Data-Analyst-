{
 "cells": [
  {
   "cell_type": "code",
   "execution_count": 3,
   "id": "2ca3149a",
   "metadata": {},
   "outputs": [
    {
     "name": "stdout",
     "output_type": "stream",
     "text": [
      "Please input your user name: quynhnt4\n",
      "SORRY!!! User name not found, please input again\n",
      "----------------------------------------------------\n",
      "Please input your user name: quynhnt3\n",
      "----------------------------------------------------\n",
      "Please input your pass word: 2808001\n",
      "----------------------------------------------------\n",
      "SORRY!!! Your pass word is wrong, please input again\n",
      "Please input your pass word: 28082001\n",
      "HI 🎉✨🎁🎈\n",
      "Quỳnh 🎀\n",
      "WELCOME TO THE WORLD OF DATA\n"
     ]
    }
   ],
   "source": [
    "users_list = ['taimx','tuannv','trucntt','quynhnt3','sangnn','hangntt18']\n",
    "password_dict = {\n",
    "    'taimx': '20022000',\n",
    "    'tuannv': '01061974',\n",
    "    'quynhnt3': '28082001',\n",
    "    'sangnn': '25062002',\n",
    "    'hangntt18': '22052001',\n",
    "    'trucntt': '24011984'\n",
    "}\n",
    "\n",
    "Name = {\n",
    "    'taimx': 'Anh Tài 👺',\n",
    "    'trucntt': 'Chị Trúc xinh đẹp 😍',\n",
    "    'quynhnt3': 'Quỳnh 🎀',\n",
    "    'sangnn': 'Cu Sáng 🐕',\n",
    "    'hangntt18': 'Hằng'\n",
    "}\n",
    "\n",
    "LOCAL = {\n",
    "    'taimx': 'LT32046SME035',\n",
    "    'trucntt': 'LT64025BMD07\\\\MAYAO',\n",
    "    'quynhnt3': 'LT32046SME200',\n",
    "    'sangnn': 'LT32046BMD021',\n",
    "    'hangntt18': 'LT32046SCD168'\n",
    "}\n",
    "\n",
    "user_name = 'default name'\n",
    "while user_name not in users_list:\n",
    "    user_name = input(str('Please input your user name: '))\n",
    "    if user_name not in users_list:\n",
    "        print('SORRY!!! User name not found, please input again')\n",
    "    print('----------------------------------------------------')\n",
    "\n",
    "pass_word = 'A000'\n",
    "while pass_word != password_dict[user_name]:\n",
    "    pass_word = input(str('Please input your pass word: '))\n",
    "    if pass_word != password_dict[user_name]:\n",
    "        print('----------------------------------------------------')\n",
    "        print('SORRY!!! Your pass word is wrong, please input again')\n",
    "\n",
    "print('HI 🎉✨🎁🎈', Name.get(user_name, \"Không tìm thấy tên\"), 'WELCOME TO THE WORLD OF DATA', sep='\\n')\n"
   ]
  },
  {
   "cell_type": "code",
   "execution_count": null,
   "id": "6e77df61",
   "metadata": {},
   "outputs": [],
   "source": []
  },
  {
   "cell_type": "code",
   "execution_count": null,
   "id": "ad41de1e",
   "metadata": {},
   "outputs": [],
   "source": []
  },
  {
   "cell_type": "code",
   "execution_count": null,
   "id": "d4360515",
   "metadata": {},
   "outputs": [],
   "source": []
  },
  {
   "cell_type": "code",
   "execution_count": null,
   "id": "1bf52088",
   "metadata": {},
   "outputs": [],
   "source": []
  }
 ],
 "metadata": {
  "kernelspec": {
   "display_name": "Python 3 (ipykernel)",
   "language": "python",
   "name": "python3"
  },
  "language_info": {
   "codemirror_mode": {
    "name": "ipython",
    "version": 3
   },
   "file_extension": ".py",
   "mimetype": "text/x-python",
   "name": "python",
   "nbconvert_exporter": "python",
   "pygments_lexer": "ipython3",
   "version": "3.10.9"
  }
 },
 "nbformat": 4,
 "nbformat_minor": 5
}
